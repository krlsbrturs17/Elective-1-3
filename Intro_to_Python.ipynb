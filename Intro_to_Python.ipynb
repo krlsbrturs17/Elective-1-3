{
  "nbformat": 4,
  "nbformat_minor": 0,
  "metadata": {
    "colab": {
      "name": "Intro to Python.ipynb",
      "provenance": [],
      "authorship_tag": "ABX9TyPlPP8i51FhM5jKGA8JQhlD",
      "include_colab_link": true
    },
    "kernelspec": {
      "name": "python3",
      "display_name": "Python 3"
    },
    "language_info": {
      "name": "python"
    }
  },
  "cells": [
    {
      "cell_type": "markdown",
      "metadata": {
        "id": "view-in-github",
        "colab_type": "text"
      },
      "source": [
        "<a href=\"https://colab.research.google.com/github/krlsbrturs17/Elective-1-3/blob/main/Intro_to_Python.ipynb\" target=\"_parent\"><img src=\"https://colab.research.google.com/assets/colab-badge.svg\" alt=\"Open In Colab\"/></a>"
      ]
    },
    {
      "cell_type": "markdown",
      "source": [
        "##Python Indention\n"
      ],
      "metadata": {
        "id": "6drkxKkTf5pw"
      }
    },
    {
      "cell_type": "code",
      "source": [
        "if 5<2:\n",
        "  print(\"Five is less than two\")\n",
        "else:\n",
        "  print(\"Five is greater than two\")"
      ],
      "metadata": {
        "colab": {
          "base_uri": "https://localhost:8080/"
        },
        "id": "n8DcC_tbf-Ak",
        "outputId": "bb0a3134-47ac-4388-d3f0-04a0c4191650"
      },
      "execution_count": 1,
      "outputs": [
        {
          "output_type": "stream",
          "name": "stdout",
          "text": [
            "Five is greater than two\n"
          ]
        }
      ]
    },
    {
      "cell_type": "markdown",
      "source": [
        "##Python Comment"
      ],
      "metadata": {
        "id": "Ggkp8pCUg3o2"
      }
    },
    {
      "cell_type": "code",
      "source": [
        "# This is a program that Display Hello, World\n",
        "\n",
        "print(\"Hello World\")\n",
        "print(\"Welcome to Python Programming\")"
      ],
      "metadata": {
        "colab": {
          "base_uri": "https://localhost:8080/"
        },
        "id": "fZtPk5l3g7uc",
        "outputId": "d803eed0-3242-445c-d6d9-9f2f2cebb526"
      },
      "execution_count": 2,
      "outputs": [
        {
          "output_type": "stream",
          "name": "stdout",
          "text": [
            "Hello World\n",
            "Welcome to Python Programming\n"
          ]
        }
      ]
    }
  ]
}